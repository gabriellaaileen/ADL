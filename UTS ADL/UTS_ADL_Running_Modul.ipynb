{
  "nbformat": 4,
  "nbformat_minor": 0,
  "metadata": {
    "colab": {
      "name": "UTS ADL_Running Modul.ipynb",
      "provenance": [],
      "authorship_tag": "ABX9TyPJOJPnf/Ubxqyh3QpyBsD2",
      "include_colab_link": true
    },
    "kernelspec": {
      "name": "python3",
      "display_name": "Python 3"
    },
    "language_info": {
      "name": "python"
    }
  },
  "cells": [
    {
      "cell_type": "markdown",
      "metadata": {
        "id": "view-in-github",
        "colab_type": "text"
      },
      "source": [
        "<a href=\"https://colab.research.google.com/github/gabriellaaileen/ADL/blob/main/UTS%20ADL/UTS_ADL_Running_Modul.ipynb\" target=\"_parent\"><img src=\"https://colab.research.google.com/assets/colab-badge.svg\" alt=\"Open In Colab\"/></a>"
      ]
    },
    {
      "cell_type": "code",
      "source": [
        "!pip install future"
      ],
      "metadata": {
        "colab": {
          "base_uri": "https://localhost:8080/"
        },
        "id": "mpLSNjtm6Ubd",
        "outputId": "a5f51aa2-a298-47be-f61e-1773bff1078e"
      },
      "execution_count": 1,
      "outputs": [
        {
          "output_type": "stream",
          "name": "stdout",
          "text": [
            "Requirement already satisfied: future in /usr/local/lib/python3.7/dist-packages (0.16.0)\n"
          ]
        }
      ]
    },
    {
      "cell_type": "code",
      "source": [
        "!pip install rasterio\n",
        "import rasterio"
      ],
      "metadata": {
        "id": "Ey0j7WOWVBjb",
        "colab": {
          "base_uri": "https://localhost:8080/"
        },
        "outputId": "89ee49e9-a685-418e-be36-0b1e80b878e1"
      },
      "execution_count": 2,
      "outputs": [
        {
          "output_type": "stream",
          "name": "stdout",
          "text": [
            "Requirement already satisfied: rasterio in /usr/local/lib/python3.7/dist-packages (1.2.10)\n",
            "Requirement already satisfied: certifi in /usr/local/lib/python3.7/dist-packages (from rasterio) (2021.10.8)\n",
            "Requirement already satisfied: cligj>=0.5 in /usr/local/lib/python3.7/dist-packages (from rasterio) (0.7.2)\n",
            "Requirement already satisfied: affine in /usr/local/lib/python3.7/dist-packages (from rasterio) (2.3.1)\n",
            "Requirement already satisfied: numpy in /usr/local/lib/python3.7/dist-packages (from rasterio) (1.21.5)\n",
            "Requirement already satisfied: setuptools in /usr/local/lib/python3.7/dist-packages (from rasterio) (57.4.0)\n",
            "Requirement already satisfied: attrs in /usr/local/lib/python3.7/dist-packages (from rasterio) (21.4.0)\n",
            "Requirement already satisfied: click>=4.0 in /usr/local/lib/python3.7/dist-packages (from rasterio) (7.1.2)\n",
            "Requirement already satisfied: click-plugins in /usr/local/lib/python3.7/dist-packages (from rasterio) (1.1.1)\n",
            "Requirement already satisfied: snuggs>=1.4.1 in /usr/local/lib/python3.7/dist-packages (from rasterio) (1.4.7)\n",
            "Requirement already satisfied: pyparsing>=2.1.6 in /usr/local/lib/python3.7/dist-packages (from snuggs>=1.4.1->rasterio) (3.0.7)\n"
          ]
        }
      ]
    },
    {
      "cell_type": "code",
      "source": [
        "# A\n",
        "import argparse\n",
        "# C\n",
        "import cv2\n",
        "# G\n",
        "import glob\n",
        "# H\n",
        "import h5py\n",
        "# I\n",
        "import imgaug as ia\n",
        "import importlib.util\n",
        "# J\n",
        "import json\n",
        "# M\n",
        "import matplotlib\n",
        "import matplotlib.pyplot as plt\n",
        "import matplotlib.image as mpimg\n",
        "# N\n",
        "import numpy as np\n",
        "# O\n",
        "import os\n",
        "# P\n",
        "import pandas as pd\n",
        "# R\n",
        "import random\n",
        "import rasterio\n",
        "# S\n",
        "import scipy.misc\n",
        "import shutil\n",
        "import signal\n",
        "import sys\n",
        "# T\n",
        "import tensorflow\n",
        "import time\n",
        "# W\n",
        "import webbrowser\n",
        "\n",
        "### Keras\n",
        "from keras.layers import  * \n",
        "from keras.models import Model, Sequential, load_model as keras_load_model\n",
        "from keras.optimizers import *\n",
        "from keras.preprocessing.image import ImageDataGenerator, array_to_img, img_to_array, load_img\n",
        "from keras.callbacks import ModelCheckpoint, LearningRateScheduler, CSVLogger, TensorBoard, EarlyStopping\n",
        "from keras.metrics import categorical_accuracy\n",
        "from keras import backend as K\n",
        "from keras import losses\n",
        "from keras.optimizers import *\n",
        "from keras.utils.generic_utils import get_custom_objects\n",
        "### Tensor\n",
        "from tensorflow.keras.utils import to_categorical\n",
        "from tensorflow.keras.optimizers import Adam, RMSprop\n",
        "### Sklearn\n",
        "from sklearn.model_selection import train_test_split\n",
        "from sklearn.metrics import roc_curve, auc\n",
        "### Random\n",
        "from random import randint\n",
        "from random import shuffle\n",
        "### ImgAug\n",
        "from imgaug import augmenters as iaa\n",
        "from imgaug import parameters as iap\n",
        "### Others\n",
        "#from _future_ import division\n",
        "from IPython.display import clear_output"
      ],
      "metadata": {
        "id": "hLkZfORP56Tn"
      },
      "execution_count": 3,
      "outputs": []
    },
    {
      "cell_type": "code",
      "execution_count": 4,
      "metadata": {
        "colab": {
          "base_uri": "https://localhost:8080/"
        },
        "id": "anMIguNOUbO6",
        "outputId": "c74c891c-070e-42e8-f411-469fbf0f4311"
      },
      "outputs": [
        {
          "output_type": "stream",
          "name": "stdout",
          "text": [
            "fatal: destination path 'ADL' already exists and is not an empty directory.\n",
            "[Errno 2] No such file or directory: 'UTS ADL'\n",
            "/content\n"
          ]
        }
      ],
      "source": [
        "!git clone https://github.com/gabriellaaileen/ADL.git\n",
        "%cd UTS ADL"
      ]
    },
    {
      "cell_type": "code",
      "source": [
        "%cd /content/ADL/UTS ADL"
      ],
      "metadata": {
        "colab": {
          "base_uri": "https://localhost:8080/"
        },
        "id": "b04gF6eQ39vm",
        "outputId": "4c3e6cc1-2e2d-443b-a406-c28d29cb445c"
      },
      "execution_count": 5,
      "outputs": [
        {
          "output_type": "stream",
          "name": "stdout",
          "text": [
            "/content/ADL/UTS ADL\n"
          ]
        }
      ]
    },
    {
      "cell_type": "code",
      "source": [
        "!python3 \"/content/ADL/UTS ADL/generate_parameters.py\""
      ],
      "metadata": {
        "id": "VHI1QNmXU0VG",
        "colab": {
          "base_uri": "https://localhost:8080/"
        },
        "outputId": "4309d9f5-4613-4ca0-f2ea-66bfcedeaf0a"
      },
      "execution_count": 6,
      "outputs": [
        {
          "output_type": "stream",
          "name": "stdout",
          "text": [
            "Warning params file exists, continue? (y/n) y\n"
          ]
        }
      ]
    },
    {
      "cell_type": "code",
      "source": [
        "!python3 \"/content/ADL/UTS ADL/rgb2label.py\""
      ],
      "metadata": {
        "id": "Eat45UII9EMK"
      },
      "execution_count": 7,
      "outputs": []
    },
    {
      "cell_type": "code",
      "source": [
        "!python3 \"/content/ADL/UTS ADL/TrainingClass.py\""
      ],
      "metadata": {
        "id": "rqmDcrKiU7mF"
      },
      "execution_count": 8,
      "outputs": []
    },
    {
      "cell_type": "code",
      "source": [
        "!python3 \"/content/ADL/UTS ADL/PostProcessing.py\""
      ],
      "metadata": {
        "colab": {
          "base_uri": "https://localhost:8080/"
        },
        "id": "Ynu1c3_x8yDU",
        "outputId": "eaf49aa0-00fd-43b4-a1a1-d83504774e99"
      },
      "execution_count": 9,
      "outputs": [
        {
          "output_type": "stream",
          "name": "stdout",
          "text": [
            "/usr/local/lib/python3.7/dist-packages/keras/optimizer_v2/adam.py:105: UserWarning: The `lr` argument is deprecated, use `learning_rate` instead.\n",
            "  super(Adam, self).__init__(name, **kwargs)\n"
          ]
        }
      ]
    },
    {
      "cell_type": "code",
      "source": [
        "!python3 \"/content/ADL/UTS ADL/XNet.py\""
      ],
      "metadata": {
        "id": "c3eIQB8U9cYN"
      },
      "execution_count": 10,
      "outputs": []
    },
    {
      "cell_type": "code",
      "source": [
        "!python3 \"/content/ADL/UTS ADL/train.py\""
      ],
      "metadata": {
        "colab": {
          "base_uri": "https://localhost:8080/"
        },
        "id": "Z29l_B4mVX0k",
        "outputId": "e5f36858-602a-4714-bcea-ded516dd0897"
      },
      "execution_count": 11,
      "outputs": [
        {
          "output_type": "stream",
          "name": "stdout",
          "text": [
            "/usr/local/lib/python3.7/dist-packages/keras/optimizer_v2/adam.py:105: UserWarning: The `lr` argument is deprecated, use `learning_rate` instead.\n",
            "  super(Adam, self).__init__(name, **kwargs)\n",
            "I will train on all these parameter files:\n",
            "\n",
            "\n"
          ]
        }
      ]
    },
    {
      "cell_type": "code",
      "source": [
        "import numpy as np\n",
        "import TrainingClass\n",
        "import json\n",
        "import os\n",
        "import sys\n",
        "from PostProcessing import PostProcessing\n",
        "import glob\n",
        "import shutil\n",
        "import webbrowser\n",
        "import time\n",
        "#from Killer import GracefulKiller\n",
        "#killer = GracefulKiller()\n",
        "\n",
        "param_files = glob.glob(\"aug*.txt\")\n",
        "print(\"I will train on all these parameter files:\\n\")\n",
        "print(*param_files, sep = \"\\n\")\n",
        "\n",
        "#print(\"Opening tensorboard... \\n\")\n",
        "#tb_url = \"http://127.0.0.1:7007/\"\n",
        "#webbrowser.open(tb_url)\n",
        "\n",
        "for file in param_files:\n",
        "    params = json.load(open(file,'r'))\n",
        "\n",
        "    save_folder = params[\"save_folder\"]\n",
        "    if(os.path.isdir(save_folder)):\n",
        "        rm_folder = input(\"Warning, folder exists! Delete? (y/n) \")\n",
        "        if(rm_folder == \"y\"):\n",
        "            shutil.rmtree(save_folder)\n",
        "        else:\n",
        "            sys.exit()\n",
        "            \n",
        "    os.mkdir(save_folder)\n",
        "\n",
        "    #tensorboard stuff\n",
        "    #tbdir = os.path.join(save_folder, \"tboard\")\n",
        "    #os.mkdir(tbdir)\n",
        "    #os.system(\"killall tensorboard\")\n",
        "    #os.system(\"tensorboard --logdir=\" + tbdir + \" --port=7007 &\")\n",
        "    training = TrainingClass.TrainingClass(**params)\n",
        "    try:\n",
        "        training.fit()\n",
        "    except:\n",
        "        print(\"\\n Dying... \\n\")\n",
        "        \n",
        "    print(\"Running post training analysis...\\n\")\n",
        "        \n",
        "    h5_files = np.sort(glob.glob(os.path.join(params[\"save_folder\"], \"*.h5\")))\n",
        "    try:\n",
        "        pp = PostProcessing( h5_files[-1], params[\"data_path\"], device = \"gpu\")\n",
        "    except:\n",
        "        print(\"You haven't trained anything?\")\n",
        "        continue\n",
        "\n",
        "    pfile = open(os.path.join(params[\"save_folder\"],  \"results.txt\"), \"w\")\n",
        "    pfile.write(\"Overall perfomance: \\n\")\n",
        "    accuracy_test, trainable_count = pp.evaluate_overall(device = \"gpu\")\n",
        "    pfile.write(\"Accuracy: {} \\nTrainable parameters: {} \\n\\n\".format(round(accuracy_test,2)*100, trainable_count) )\n",
        "    \n",
        "    pfile.write(\"Performance per class:\\n\")\n",
        "    beam_accuracy, tissue_accuracy, bone_accuracy = pp.evaluate_perclass()\n",
        "    pfile.write(\" Open beam: {} \\n Soft Tissue: {} \\n Bone: {}\\n\\n\".format(round(beam_accuracy,2)*100, round(tissue_accuracy,2)*100, round(bone_accuracy,2)*100))\n",
        "    \n",
        "    pfile.write(\"True Positives and False Positives:\\n\")\n",
        "    tp, fp = pp.tpfp()\n",
        "    pfile.write(\" TP: {} \\n FP {} \\n\\n \".format(round(tp,2)*100, round(fp,2)*100))\n",
        "    \n",
        "    pfile.write(\"Threshold 90% \\n\")\n",
        "    thresh90 = pp.thresholding(0.9)\n",
        "    tp90, fp90 = pp.tpfp(thresh90)\n",
        "    pfile.write(\" TP90: {} \\n FP90 {}\\n \\n \".format(round(tp90,2)*100, round(fp90,2)*100))\n",
        "    \n",
        "    pfile.write(\"Threshold 99% \\n\")\n",
        "    thresh99 = pp.thresholding(0.99)\n",
        "    tp99, fp99 = pp.tpfp(thresh99)\n",
        "    pfile.write(\" TP99: {} \\n FP99 {}\\n \\n \".format(round(tp99,2)*100, round(fp99,2)*100))\n",
        "    \n",
        "    pfile.close()\n",
        "   \n",
        "    lc_fig, lc_ax = pp.learning_curve(os.path.join(params[\"save_folder\"], params[\"name\"] + \".csv\"))\n",
        "    lc_fig.savefig(os.path.join(params[\"save_folder\"], \"learning_curve.png\"))\n",
        "    \n",
        "    rc_fig, rc_ax = pp.ROC_curve()\n",
        "    rc_fig.savefig( os.path.join(params[\"save_folder\"] , \"roc_curve.png\") )\n",
        "    \n",
        "    \n"
      ],
      "metadata": {
        "colab": {
          "base_uri": "https://localhost:8080/"
        },
        "id": "zbmVK9xc_wdw",
        "outputId": "82ed51f0-8dbb-4d2c-d128-9fb271cb8b3c"
      },
      "execution_count": 12,
      "outputs": [
        {
          "output_type": "stream",
          "name": "stdout",
          "text": [
            "I will train on all these parameter files:\n",
            "\n",
            "\n"
          ]
        },
        {
          "output_type": "stream",
          "name": "stderr",
          "text": [
            "/usr/local/lib/python3.7/dist-packages/keras/optimizer_v2/adam.py:105: UserWarning: The `lr` argument is deprecated, use `learning_rate` instead.\n",
            "  super(Adam, self).__init__(name, **kwargs)\n"
          ]
        }
      ]
    },
    {
      "cell_type": "code",
      "source": [
        "for file in param_files:\n",
        "    params = json.load(open(file,'r'))\n",
        "    #params[\"save_folder\"]\n",
        "\n",
        "    training = TrainingClass(**params)"
      ],
      "metadata": {
        "id": "aD9qmJVBACzS"
      },
      "execution_count": 13,
      "outputs": []
    },
    {
      "cell_type": "code",
      "source": [
        "try:\n",
        "  training.fit()\n",
        "except:\n",
        "  print(\"\\n Dying... \\n\")"
      ],
      "metadata": {
        "colab": {
          "base_uri": "https://localhost:8080/"
        },
        "id": "aRuWu7kIAIWm",
        "outputId": "b8049d0f-fd25-4bc7-fcb2-f124f95f1523"
      },
      "execution_count": 14,
      "outputs": [
        {
          "output_type": "stream",
          "name": "stdout",
          "text": [
            "\n",
            " Dying... \n",
            "\n"
          ]
        }
      ]
    }
  ]
}