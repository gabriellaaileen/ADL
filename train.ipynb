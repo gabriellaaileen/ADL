{
  "nbformat": 4,
  "nbformat_minor": 0,
  "metadata": {
    "colab": {
      "name": "train.ipynb",
      "provenance": [],
      "authorship_tag": "ABX9TyPXJ5W4kglYisICMHG1Gsw0",
      "include_colab_link": true
    },
    "kernelspec": {
      "name": "python3",
      "display_name": "Python 3"
    },
    "language_info": {
      "name": "python"
    }
  },
  "cells": [
    {
      "cell_type": "markdown",
      "metadata": {
        "id": "view-in-github",
        "colab_type": "text"
      },
      "source": [
        "<a href=\"https://colab.research.google.com/github/gabriellaaileen/ADL/blob/main/train.ipynb\" target=\"_parent\"><img src=\"https://colab.research.google.com/assets/colab-badge.svg\" alt=\"Open In Colab\"/></a>"
      ]
    },
    {
      "cell_type": "code",
      "execution_count": 10,
      "metadata": {
        "colab": {
          "base_uri": "https://localhost:8080/"
        },
        "id": "q6lHIGE-TmJA",
        "outputId": "b79ce79e-ec13-4a3d-ecea-841c2fd694a0"
      },
      "outputs": [
        {
          "output_type": "stream",
          "name": "stdout",
          "text": [
            "\u001b[31mERROR: Could not find a version that satisfies the requirement TrainingClass (from versions: none)\u001b[0m\n",
            "\u001b[31mERROR: No matching distribution found for TrainingClass\u001b[0m\n",
            "\u001b[31mERROR: Could not find a version that satisfies the requirement PostProcessing (from versions: none)\u001b[0m\n",
            "\u001b[31mERROR: No matching distribution found for PostProcessing\u001b[0m\n",
            "I will train on all these parameter files:\n",
            "\n",
            "\n",
            "Opening tensorboard... \n",
            "\n"
          ]
        }
      ],
      "source": [
        "!pip install TrainingClass\n",
        "!pip install PostProcessing\n",
        "import numpy as np\n",
        "#import TrainingClass\n",
        "import json\n",
        "import os\n",
        "import sys\n",
        "#from PostProcessing import PostProcessing\n",
        "import glob\n",
        "import shutil\n",
        "import webbrowser\n",
        "import time\n",
        "#from Killer import GracefulKiller\n",
        "#killer = GracefulKiller()\n",
        "\n",
        "param_files = glob.glob(\"aug*.txt\")\n",
        "print(\"I will train on all these parameter files:\\n\")\n",
        "print(*param_files, sep = \"\\n\")\n",
        "\n",
        "print(\"Opening tensorboard... \\n\")\n",
        "tb_url = \"http://127.0.0.1:7007/\"\n",
        "webbrowser.open(tb_url)\n",
        "\n",
        "for file in param_files:\n",
        "    params = json.load(open(file,'r'))\n",
        "\n",
        "    save_folder = params[\"save_folder\"]\n",
        "    if(os.path.isdir(save_folder)):\n",
        "        rm_folder = input(\"Warning, folder exists! Delete? (y/n) \")\n",
        "        if(rm_folder == \"y\"):\n",
        "            shutil.rmtree(save_folder)\n",
        "        else:\n",
        "            sys.exit()\n",
        "            \n",
        "    os.mkdir(save_folder)\n",
        "\n",
        "    #tensorboard stuff\n",
        "    tbdir = os.path.join(save_folder, \"tboard\")\n",
        "    os.mkdir(tbdir)\n",
        "    os.system(\"killall tensorboard\")\n",
        "    os.system(\"tensorboard --logdir=\" + tbdir + \" --port=7007 &\")\n",
        "    training = TrainingClass.TrainingClass(**params)\n",
        "    try:\n",
        "        training.fit()\n",
        "    except:\n",
        "        print(\"\\n Dying... \\n\")\n",
        "        \n",
        "    print(\"Running post training analysis...\\n\")\n",
        "        \n",
        "    h5_files = np.sort(glob.glob(os.path.join(params[\"save_folder\"], \"*.h5\")))\n",
        "    try:\n",
        "        pp = PostProcessing( h5_files[-1], params[\"data_path\"], device = \"gpu\")\n",
        "    except:\n",
        "        print(\"You haven't trained anything?\")\n",
        "        continue\n",
        "\n",
        "    pfile = open(os.path.join(params[\"save_folder\"],  \"results.txt\"), \"w\")\n",
        "    pfile.write(\"Overall perfomance: \\n\")\n",
        "    accuracy_test, trainable_count = pp.evaluate_overall(device = \"gpu\")\n",
        "    pfile.write(\"Accuracy: {} \\nTrainable parameters: {} \\n\\n\".format(round(accuracy_test,2)*100, trainable_count) )\n",
        "    \n",
        "    pfile.write(\"Performance per class:\\n\")\n",
        "    beam_accuracy, tissue_accuracy, bone_accuracy = pp.evaluate_perclass()\n",
        "    pfile.write(\" Open beam: {} \\n Soft Tissue: {} \\n Bone: {}\\n\\n\".format(round(beam_accuracy,2)*100, round(tissue_accuracy,2)*100, round(bone_accuracy,2)*100))\n",
        "    \n",
        "    pfile.write(\"True Positives and False Positives:\\n\")\n",
        "    tp, fp = pp.tpfp()\n",
        "    pfile.write(\" TP: {} \\n FP {} \\n\\n \".format(round(tp,2)*100, round(fp,2)*100))\n",
        "    \n",
        "    pfile.write(\"Threshold 90% \\n\")\n",
        "    thresh90 = pp.thresholding(0.9)\n",
        "    tp90, fp90 = pp.tpfp(thresh90)\n",
        "    pfile.write(\" TP90: {} \\n FP90 {}\\n \\n \".format(round(tp90,2)*100, round(fp90,2)*100))\n",
        "    \n",
        "    pfile.write(\"Threshold 99% \\n\")\n",
        "    thresh99 = pp.thresholding(0.99)\n",
        "    tp99, fp99 = pp.tpfp(thresh99)\n",
        "    pfile.write(\" TP99: {} \\n FP99 {}\\n \\n \".format(round(tp99,2)*100, round(fp99,2)*100))\n",
        "    \n",
        "    pfile.close()\n",
        "   \n",
        "    lc_fig, lc_ax = pp.learning_curve(os.path.join(params[\"save_folder\"], params[\"name\"] + \".csv\"))\n",
        "    lc_fig.savefig(os.path.join(params[\"save_folder\"], \"learning_curve.png\"))\n",
        "    \n",
        "    rc_fig, rc_ax = pp.ROC_curve()\n",
        "    rc_fig.savefig( os.path.join(params[\"save_folder\"] , \"roc_curve.png\") )"
      ]
    }
  ]
}