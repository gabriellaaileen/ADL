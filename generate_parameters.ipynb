{
  "nbformat": 4,
  "nbformat_minor": 0,
  "metadata": {
    "colab": {
      "name": "generate_parameters.ipynb",
      "provenance": [],
      "authorship_tag": "ABX9TyP3xuV+SVMGo9rAqhpfUy4a",
      "include_colab_link": true
    },
    "kernelspec": {
      "name": "python3",
      "display_name": "Python 3"
    },
    "language_info": {
      "name": "python"
    }
  },
  "cells": [
    {
      "cell_type": "markdown",
      "metadata": {
        "id": "view-in-github",
        "colab_type": "text"
      },
      "source": [
        "<a href=\"https://colab.research.google.com/github/gabriellaaileen/ADL/blob/main/generate_parameters.ipynb\" target=\"_parent\"><img src=\"https://colab.research.google.com/assets/colab-badge.svg\" alt=\"Open In Colab\"/></a>"
      ]
    },
    {
      "cell_type": "code",
      "execution_count": 2,
      "metadata": {
        "colab": {
          "base_uri": "https://localhost:8080/"
        },
        "id": "utKUUNrhOtP5",
        "outputId": "a995a896-15ea-4841-e520-99209f70c6b2"
      },
      "outputs": [
        {
          "name": "stdout",
          "output_type": "stream",
          "text": [
            "Warning params file exists, continue? (y/n) y\n"
          ]
        }
      ],
      "source": [
        "import numpy\n",
        "import json\n",
        "import os\n",
        "import sys\n",
        "\n",
        "params_name = \"parameters.txt\"\n",
        "save_folder = \"Model0\"\n",
        "\n",
        "\n",
        "model = \"Architectures/DoubleLinked.py\"\n",
        "name = \"DLs200_64\"\n",
        "\n",
        "lrate = 0.0001\n",
        "reg = 0\n",
        "batch_size = 5\n",
        "kernel_size = 5\n",
        "filter_list =  [64,128,256, 512, 1024]\n",
        "#loss = \"fancy\"\n",
        "loss = \"categorical_crossentropy\"\n",
        "#loss = \"jaccard\"\n",
        "#data = \"Humans_CT_Phantom_s224.hdf5\"\n",
        "data = \"cv_dataset_s200.hdf5\"\n",
        "no_epochs = 5000\n",
        "duplicate = True\n",
        "\n",
        "\n",
        "d = {\"name\":name,\n",
        "     \"model_path\": model,\n",
        "     \"data_path\": data,\n",
        "     \"save_folder\": save_folder,\n",
        "     \"kernel_size\": kernel_size,\n",
        "     \"batch_size\": batch_size,\n",
        "     \"filters\": filter_list,\n",
        "     \"lrate\": lrate,\n",
        "     \"reg\":reg,\n",
        "     \"loss\": loss,\n",
        "     \"no_epochs\": no_epochs,\n",
        "     \"duplicate\": duplicate}\n",
        "\n",
        "\n",
        "if (os.path.isfile(params_name)):\n",
        "    confirm_metada = input(\"Warning params file exists, continue? (y/n) \")\n",
        "    if(confirm_metada == \"y\"):\n",
        "        os.remove(params_name)\n",
        "    else:\n",
        "        sys.exit()\n",
        "        \n",
        "\n",
        "with open(params_name, 'w') as fp:\n",
        "    json.dump(d, fp)\n",
        "    \n",
        "    \n",
        "models = [\"DoubleLinked_s224\", \"DoubleLinked_s200\"]\n",
        "lrates = [1,2,3]\n",
        "regs = [1,2,3]\n",
        "batch_sizes = [5,20]\n",
        "kernel_sizes = [3,5]\n",
        "filter_list = [[64,128,256,512,1024,2048], [32,64,128,256,512,1024]]\n",
        "losses = [\"categorical_crossentropy\", \"fancy\"]\n",
        "im_size = [\"Humans_CT_Phantom_s224.hdf5\", \"Humans_CT_Phantom_s200.hdf5\"]\n",
        "\n",
        "counter = 0\n",
        "for size in im_size:\n",
        "    for loss in losses:\n",
        "        for filters in filter_list:\n",
        "            for lrate in lrates:\n",
        "                for reg in regs:\n",
        "                    for batch in batch_sizes:\n",
        "                        for kernel in kernel_sizes:\n",
        "                            \n",
        "                            d[\"name\"] = \"Model_\" #+ counter\n",
        "                            d[\"save_folder\"] = \"Model_\" #+ counter\n",
        "                            d[\"data_path\"] = size\n",
        "                            d[\"lrate\"] = lrate\n",
        "                            d[\"reg\"] = reg\n",
        "                            d[\"batch_size\"] = batch\n",
        "                            d[\"filters\"] = filters\n",
        "                            d[\"kernel_size\"] = kernel\n",
        "                            d[\"loss\"] = loss\n",
        "                            d[\"name\"] = name\n",
        "\n",
        "                            counter += 1"
      ]
    }
  ]
}